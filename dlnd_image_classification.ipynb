{
 "cells": [
  {
   "cell_type": "markdown",
   "metadata": {
    "collapsed": true,
    "deletable": true,
    "editable": true
   },
   "source": [
    "# Image Classification\n",
    "In this project, you'll classify images from the [CIFAR-10 dataset](https://www.cs.toronto.edu/~kriz/cifar.html).  The dataset consists of airplanes, dogs, cats, and other objects. You'll preprocess the images, then train a convolutional neural network on all the samples. The images need to be normalized and the labels need to be one-hot encoded.  You'll get to apply what you learned and build a convolutional, max pooling, dropout, and fully connected layers.  At the end, you'll get to see your neural network's predictions on the sample images.\n",
    "## Get the Data\n",
    "Run the following cell to download the [CIFAR-10 dataset for python](https://www.cs.toronto.edu/~kriz/cifar-10-python.tar.gz)."
   ]
  },
  {
   "cell_type": "code",
   "execution_count": 1,
   "metadata": {
    "collapsed": false,
    "deletable": true,
    "editable": true
   },
   "outputs": [
    {
     "name": "stderr",
     "output_type": "stream",
     "text": [
      "CIFAR-10 Dataset: 171MB [01:04, 2.64MB/s]                               \n"
     ]
    },
    {
     "name": "stdout",
     "output_type": "stream",
     "text": [
      "All files found!\n"
     ]
    }
   ],
   "source": [
    "\"\"\"\n",
    "DON'T MODIFY ANYTHING IN THIS CELL THAT IS BELOW THIS LINE\n",
    "\"\"\"\n",
    "from urllib.request import urlretrieve\n",
    "from os.path import isfile, isdir\n",
    "from tqdm import tqdm\n",
    "import problem_unittests as tests\n",
    "import tarfile\n",
    "\n",
    "cifar10_dataset_folder_path = 'cifar-10-batches-py'\n",
    "\n",
    "class DLProgress(tqdm):\n",
    "    last_block = 0\n",
    "\n",
    "    def hook(self, block_num=1, block_size=1, total_size=None):\n",
    "        self.total = total_size\n",
    "        self.update((block_num - self.last_block) * block_size)\n",
    "        self.last_block = block_num\n",
    "\n",
    "if not isfile('cifar-10-python.tar.gz'):\n",
    "    with DLProgress(unit='B', unit_scale=True, miniters=1, desc='CIFAR-10 Dataset') as pbar:\n",
    "        urlretrieve(\n",
    "            'https://www.cs.toronto.edu/~kriz/cifar-10-python.tar.gz',\n",
    "            'cifar-10-python.tar.gz',\n",
    "            pbar.hook)\n",
    "\n",
    "if not isdir(cifar10_dataset_folder_path):\n",
    "    with tarfile.open('cifar-10-python.tar.gz') as tar:\n",
    "        tar.extractall()\n",
    "        tar.close()\n",
    "\n",
    "\n",
    "tests.test_folder_path(cifar10_dataset_folder_path)"
   ]
  },
  {
   "cell_type": "markdown",
   "metadata": {
    "deletable": true,
    "editable": true
   },
   "source": [
    "## Explore the Data\n",
    "The dataset is broken into batches to prevent your machine from running out of memory.  The CIFAR-10 dataset consists of 5 batches, named `data_batch_1`, `data_batch_2`, etc.. Each batch contains the labels and images that are one of the following:\n",
    "* airplane\n",
    "* automobile\n",
    "* bird\n",
    "* cat\n",
    "* deer\n",
    "* dog\n",
    "* frog\n",
    "* horse\n",
    "* ship\n",
    "* truck\n",
    "\n",
    "Understanding a dataset is part of making predictions on the data.  Play around with the code cell below by changing the `batch_id` and `sample_id`. The `batch_id` is the id for a batch (1-5). The `sample_id` is the id for a image and label pair in the batch.\n",
    "\n",
    "Ask yourself \"What are all possible labels?\", \"What is the range of values for the image data?\", \"Are the labels in order or random?\".  Answers to questions like these will help you preprocess the data and end up with better predictions."
   ]
  },
  {
   "cell_type": "code",
   "execution_count": 2,
   "metadata": {
    "collapsed": false,
    "deletable": true,
    "editable": true
   },
   "outputs": [
    {
     "name": "stdout",
     "output_type": "stream",
     "text": [
      "\n",
      "Stats of batch 1:\n",
      "Samples: 10000\n",
      "Label Counts: {0: 1005, 1: 974, 2: 1032, 3: 1016, 4: 999, 5: 937, 6: 1030, 7: 1001, 8: 1025, 9: 981}\n",
      "First 20 Labels: [6, 9, 9, 4, 1, 1, 2, 7, 8, 3, 4, 7, 7, 2, 9, 9, 9, 3, 2, 6]\n",
      "\n",
      "Example of Image 5:\n",
      "Image - Min Value: 0 Max Value: 252\n",
      "Image - Shape: (32, 32, 3)\n",
      "Label - Label Id: 1 Name: automobile\n"
     ]
    },
    {
     "data": {
      "image/png": "[encoded data removed]",
      "text/plain": [
       "<matplotlib.figure.Figure at 0x7fc0b7b69ac8>"
      ]
     },
     "metadata": {
      "image/png": {
       "height": 250,
       "width": 253
      }
     },
     "output_type": "display_data"
    }
   ],
   "source": [
    "%matplotlib inline\n",
    "%config InlineBackend.figure_format = 'retina'\n",
    "\n",
    "import helper\n",
    "import numpy as np\n",
    "\n",
    "# Explore the dataset\n",
    "batch_id = 1\n",
    "sample_id = 5\n",
    "helper.display_stats(cifar10_dataset_folder_path, batch_id, sample_id)"
   ]
  },
  {
   "cell_type": "markdown",
   "metadata": {
    "deletable": true,
    "editable": true
   },
   "source": [
    "## Implement Preprocess Functions\n",
    "### Normalize\n",
    "In the cell below, implement the `normalize` function to take in image data, `x`, and return it as a normalized Numpy array. The values should be in the range of 0 to 1, inclusive.  The return object should be the same shape as `x`."
   ]
  },
  {
   "cell_type": "code",
   "execution_count": 3,
   "metadata": {
    "collapsed": false,
    "deletable": true,
    "editable": true
   },
   "outputs": [
    {
     "name": "stdout",
     "output_type": "stream",
     "text": [
      "Tests Passed\n"
     ]
    }
   ],
   "source": [
    "def normalize(x):\n",
    "    \"\"\"\n",
    "    Normalize a list of sample image data in the range of 0 to 1\n",
    "    : x: List of image data.  The image shape is (32, 32, 3)\n",
    "    : return: Numpy array of normalize data\n",
    "    \"\"\"\n",
    "    # TODO: Implement Function\n",
    "    return x/255.\n",
    "\n",
    "\n",
    "\"\"\"\n",
    "DON'T MODIFY ANYTHING IN THIS CELL THAT IS BELOW THIS LINE\n",
    "\"\"\"\n",
    "tests.test_normalize(normalize)"
   ]
  },
  {
   "cell_type": "markdown",
   "metadata": {
    "deletable": true,
    "editable": true
   },
   "source": [
    "### One-hot encode\n",
    "Just like the previous code cell, you'll be implementing a function for preprocessing.  This time, you'll implement the `one_hot_encode` function. The input, `x`, are a list of labels.  Implement the function to return the list of labels as One-Hot encoded Numpy array.  The possible values for labels are 0 to 9. The one-hot encoding function should return the same encoding for each value between each call to `one_hot_encode`.  Make sure to save the map of encodings outside the function.\n",
    "\n",
    "Hint: Don't reinvent the wheel."
   ]
  },
  {
   "cell_type": "code",
   "execution_count": 4,
   "metadata": {
    "collapsed": false,
    "deletable": true,
    "editable": true
   },
   "outputs": [
    {
     "name": "stdout",
     "output_type": "stream",
     "text": [
      "Tests Passed\n"
     ]
    }
   ],
   "source": [
    "from sklearn import preprocessing\n",
    "\n",
    "lb = preprocessing.LabelBinarizer()\n",
    "lb.fit(list(range(10)))\n",
    "def one_hot_encode(x):\n",
    "    \"\"\"\n",
    "    One hot encode a list of sample labels. Return a one-hot encoded vector for each label.\n",
    "    : x: List of sample Labels\n",
    "    : return: Numpy array of one-hot encoded labels\n",
    "    \"\"\"\n",
    "    # TODO: Implement Function\n",
    "    return lb.transform(x)\n",
    "\n",
    "\n",
    "\"\"\"\n",
    "DON'T MODIFY ANYTHING IN THIS CELL THAT IS BELOW THIS LINE\n",
    "\"\"\"\n",
    "tests.test_one_hot_encode(one_hot_encode)"
   ]
  },
  {
   "cell_type": "markdown",
   "metadata": {
    "deletable": true,
    "editable": true
   },
   "source": [
    "### Randomize Data\n",
    "As you saw from exploring the data above, the order of the samples are randomized.  It doesn't hurt to randomize it again, but you don't need to for this dataset."
   ]
  },
  {
   "cell_type": "markdown",
   "metadata": {
    "deletable": true,
    "editable": true
   },
   "source": [
    "## Preprocess all the data and save it\n",
    "Running the code cell below will preprocess all the CIFAR-10 data and save it to file. The code below also uses 10% of the training data for validation."
   ]
  },
  {
   "cell_type": "code",
   "execution_count": 5,
   "metadata": {
    "collapsed": false,
    "deletable": true,
    "editable": true
   },
   "outputs": [],
   "source": [
    "\"\"\"\n",
    "DON'T MODIFY ANYTHING IN THIS CELL\n",
    "\"\"\"\n",
    "# Preprocess Training, Validation, and Testing Data\n",
    "helper.preprocess_and_save_data(cifar10_dataset_folder_path, normalize, one_hot_encode)"
   ]
  },
  {
   "cell_type": "markdown",
   "metadata": {
    "deletable": true,
    "editable": true
   },
   "source": [
    "# Check Point\n",
    "This is your first checkpoint.  If you ever decide to come back to this notebook or have to restart the notebook, you can start from here.  The preprocessed data has been saved to disk."
   ]
  },
  {
   "cell_type": "code",
   "execution_count": 1,
   "metadata": {
    "collapsed": false,
    "deletable": true,
    "editable": true
   },
   "outputs": [
    {
     "name": "stdout",
     "output_type": "stream",
     "text": [
      "5000 5000\n"
     ]
    }
   ],
   "source": [
    "\"\"\"\n",
    "DON'T MODIFY ANYTHING IN THIS CELL\n",
    "\"\"\"\n",
    "import pickle\n",
    "import problem_unittests as tests\n",
    "import helper\n",
    "\n",
    "# Load the Preprocessed Validation data\n",
    "valid_features, valid_labels = pickle.load(open('preprocess_validation.p', mode='rb'))\n",
    "print (len(valid_features),len(valid_labels))"
   ]
  },
  {
   "cell_type": "markdown",
   "metadata": {
    "deletable": true,
    "editable": true
   },
   "source": [
    "## Build the network\n",
    "For the neural network, you'll build each layer into a function.  Most of the code you've seen has been outside of functions. To test your code more thoroughly, we require that you put each layer in a function.  This allows us to give you better feedback and test for simple mistakes using our unittests before you submit your project.\n",
    "\n",
    ">**Note:** If you're finding it hard to dedicate enough time for this course each week, we've provided a small shortcut to this part of the project. In the next couple of problems, you'll have the option to use classes from the [TensorFlow Layers](https://www.tensorflow.org/api_docs/python/tf/layers) or [TensorFlow Layers (contrib)](https://www.tensorflow.org/api_guides/python/contrib.layers) packages to build each layer, except the layers you build in the \"Convolutional and Max Pooling Layer\" section.  TF Layers is similar to Keras's and TFLearn's abstraction to layers, so it's easy to pickup.\n",
    "\n",
    ">However, if you would like to get the most out of this course, try to solve all the problems _without_ using anything from the TF Layers packages. You **can** still use classes from other packages that happen to have the same name as ones you find in TF Layers! For example, instead of using the TF Layers version of the `conv2d` class, [tf.layers.conv2d](https://www.tensorflow.org/api_docs/python/tf/layers/conv2d), you would want to use the TF Neural Network version of `conv2d`, [tf.nn.conv2d](https://www.tensorflow.org/api_docs/python/tf/nn/conv2d). \n",
    "\n",
    "Let's begin!\n",
    "\n",
    "### Input\n",
    "The neural network needs to read the image data, one-hot encoded labels, and dropout keep probability. Implement the following functions\n",
    "* Implement `neural_net_image_input`\n",
    " * Return a [TF Placeholder](https://www.tensorflow.org/api_docs/python/tf/placeholder)\n",
    " * Set the shape using `image_shape` with batch size set to `None`.\n",
    " * Name the TensorFlow placeholder \"x\" using the TensorFlow `name` parameter in the [TF Placeholder](https://www.tensorflow.org/api_docs/python/tf/placeholder).\n",
    "* Implement `neural_net_label_input`\n",
    " * Return a [TF Placeholder](https://www.tensorflow.org/api_docs/python/tf/placeholder)\n",
    " * Set the shape using `n_classes` with batch size set to `None`.\n",
    " * Name the TensorFlow placeholder \"y\" using the TensorFlow `name` parameter in the [TF Placeholder](https://www.tensorflow.org/api_docs/python/tf/placeholder).\n",
    "* Implement `neural_net_keep_prob_input`\n",
    " * Return a [TF Placeholder](https://www.tensorflow.org/api_docs/python/tf/placeholder) for dropout keep probability.\n",
    " * Name the TensorFlow placeholder \"keep_prob\" using the TensorFlow `name` parameter in the [TF Placeholder](https://www.tensorflow.org/api_docs/python/tf/placeholder).\n",
    "\n",
    "These names will be used at the end of the project to load your saved model.\n",
    "\n",
    "Note: `None` for shapes in TensorFlow allow for a dynamic size."
   ]
  },
  {
   "cell_type": "code",
   "execution_count": 2,
   "metadata": {
    "collapsed": false,
    "deletable": true,
    "editable": true
   },
   "outputs": [
    {
     "name": "stdout",
     "output_type": "stream",
     "text": [
      "Image Input Tests Passed.\n",
      "Label Input Tests Passed.\n",
      "Keep Prob Tests Passed.\n"
     ]
    }
   ],
   "source": [
    "import tensorflow as tf\n",
    "\n",
    "def neural_net_image_input(image_shape):\n",
    "    \n",
    "    \"\"\"\n",
    "    Return a Tensor for a bach of image input\n",
    "    : image_shape: Shape of the images\n",
    "    : return: Tensor for image input.\n",
    "    \"\"\"\n",
    "    # TODO: Implement Function\n",
    "    return tf.placeholder(tf.float32,(None,)+image_shape,name='x')\n",
    "\n",
    "\n",
    "def neural_net_label_input(n_classes):\n",
    "    \"\"\"\n",
    "    Return a Tensor for a batch of label input\n",
    "    : n_classes: Number of classes\n",
    "    : return: Tensor for label input.\n",
    "    \"\"\"\n",
    "    # TODO: Implement Function\n",
    "    return tf.placeholder(tf.float32,(None,n_classes),name='y')\n",
    "\n",
    "\n",
    "def neural_net_keep_prob_input():\n",
    "    \"\"\"\n",
    "    Return a Tensor for keep probability\n",
    "    : return: Tensor for keep probability.\n",
    "    \"\"\"\n",
    "    # TODO: Implement Function\n",
    "    return tf.placeholder(tf.float32,name='keep_prob')\n",
    "\n",
    "\n",
    "\"\"\"\n",
    "DON'T MODIFY ANYTHING IN THIS CELL THAT IS BELOW THIS LINE\n",
    "\"\"\"\n",
    "tf.reset_default_graph()\n",
    "tests.test_nn_image_inputs(neural_net_image_input)\n",
    "tests.test_nn_label_inputs(neural_net_label_input)\n",
    "tests.test_nn_keep_prob_inputs(neural_net_keep_prob_input)"
   ]
  },
  {
   "cell_type": "markdown",
   "metadata": {
    "deletable": true,
    "editable": true
   },
   "source": [
    "### Convolution and Max Pooling Layer\n",
    "Convolution layers have a lot of success with images. For this code cell, you should implement the function `conv2d_maxpool` to apply convolution then max pooling:\n",
    "* Create the weight and bias using `conv_ksize`, `conv_num_outputs` and the shape of `x_tensor`.\n",
    "* Apply a convolution to `x_tensor` using weight and `conv_strides`.\n",
    " * We recommend you use same padding, but you're welcome to use any padding.\n",
    "* Add bias\n",
    "* Add a nonlinear activation to the convolution.\n",
    "* Apply Max Pooling using `pool_ksize` and `pool_strides`.\n",
    " * We recommend you use same padding, but you're welcome to use any padding.\n",
    "\n",
    "**Note:** You **can't** use [TensorFlow Layers](https://www.tensorflow.org/api_docs/python/tf/layers) or [TensorFlow Layers (contrib)](https://www.tensorflow.org/api_guides/python/contrib.layers) for **this** layer, but you can still use TensorFlow's [Neural Network](https://www.tensorflow.org/api_docs/python/tf/nn) package. You may still use the shortcut option for all the **other** layers."
   ]
  },
  {
   "cell_type": "code",
   "execution_count": 26,
   "metadata": {
    "collapsed": false,
    "deletable": true,
    "editable": true
   },
   "outputs": [
    {
     "name": "stdout",
     "output_type": "stream",
     "text": [
      "Tests Passed\n"
     ]
    }
   ],
   "source": [
    "def conv2d_maxpool(x_tensor, conv_num_outputs, conv_ksize, conv_strides, pool_ksize, pool_strides):\n",
    "    \"\"\"\n",
    "    Apply convolution then max pooling to x_tensor\n",
    "    :param x_tensor: TensorFlow Tensor\n",
    "    :param conv_num_outputs: Number of outputs for the convolutional layer\n",
    "    :param conv_ksize: kernal size 2-D Tuple for the convolutional layer\n",
    "    :param conv_strides: Stride 2-D Tuple for convolution\n",
    "    :param pool_ksize: kernal size 2-D Tuple for pool\n",
    "    :param pool_strides: Stride 2-D Tuple for pool\n",
    "    : return: A tensor that represents convolution and max pooling of x_tensor\n",
    "    \"\"\"\n",
    "    # TODO: Implement Function  .get_shape().as_list()[0]\n",
    "    x_shape = x_tensor.get_shape().as_list()\n",
    "    x_deepth = x_shape[-1]\n",
    "    shape_weight = conv_ksize + (x_deepth,) + (conv_num_outputs,)\n",
    "    \n",
    "    f_w = tf.Variable(tf.truncated_normal(shape_weight,mean=0.0,stddev = 0.1))\n",
    "    f_b = tf.Variable(tf.zeros(conv_num_outputs))\n",
    "    \n",
    "    shape_conv_stride = (1,) + conv_strides + (1,)\n",
    "    conv = tf.nn.conv2d(x_tensor, f_w, shape_conv_stride, 'SAME') \n",
    "    conv = tf.nn.bias_add(conv,f_b)\n",
    "    \n",
    "    # non-linear activation ??\n",
    "    conv = tf.nn.relu(conv)\n",
    "    \n",
    "    shape_pool_size = (1,) + pool_ksize + (1,)\n",
    "    shape_pool_stride = (1,)+ pool_strides + (1,)\n",
    "    conv=tf.nn.max_pool(conv, shape_pool_size, shape_pool_stride, 'SAME')\n",
    "    return conv \n",
    "\n",
    "\n",
    "\"\"\"\n",
    "DON'T MODIFY ANYTHING IN THIS CELL THAT IS BELOW THIS LINE\n",
    "\"\"\"\n",
    "tests.test_con_pool(conv2d_maxpool)"
   ]
  },
  {
   "cell_type": "markdown",
   "metadata": {
    "deletable": true,
    "editable": true
   },
   "source": [
    "### Flatten Layer\n",
    "Implement the `flatten` function to change the dimension of `x_tensor` from a 4-D tensor to a 2-D tensor.  The output should be the shape (*Batch Size*, *Flattened Image Size*). Shortcut option: you can use classes from the [TensorFlow Layers](https://www.tensorflow.org/api_docs/python/tf/layers) or [TensorFlow Layers (contrib)](https://www.tensorflow.org/api_guides/python/contrib.layers) packages for this layer. For more of a challenge, only use other TensorFlow packages."
   ]
  },
  {
   "cell_type": "code",
   "execution_count": 4,
   "metadata": {
    "collapsed": false,
    "deletable": true,
    "editable": true
   },
   "outputs": [
    {
     "name": "stdout",
     "output_type": "stream",
     "text": [
      "Tests Passed\n"
     ]
    }
   ],
   "source": [
    "import numpy as np\n",
    "def flatten(x_tensor):\n",
    "    \"\"\"\n",
    "    Flatten x_tensor to (Batch Size, Flattened Image Size)\n",
    "    : x_tensor: A tensor of size (Batch Size, ...), where ... are the image dimensions.\n",
    "    : return: A tensor of size (Batch Size, Flattened Image Size).\n",
    "    \"\"\"\n",
    "    # TODO: Implement Function\n",
    "    shape = x_tensor.get_shape().as_list()\n",
    "    return tf.reshape(x_tensor,[-1, np.prod([i for i in shape if i is not None])])\n",
    "\n",
    "\n",
    "\"\"\"\n",
    "DON'T MODIFY ANYTHING IN THIS CELL THAT IS BELOW THIS LINE\n",
    "\"\"\"\n",
    "tests.test_flatten(flatten)"
   ]
  },
  {
   "cell_type": "markdown",
   "metadata": {
    "deletable": true,
    "editable": true
   },
   "source": [
    "### Fully-Connected Layer\n",
    "Implement the `fully_conn` function to apply a fully connected layer to `x_tensor` with the shape (*Batch Size*, *num_outputs*). Shortcut option: you can use classes from the [TensorFlow Layers](https://www.tensorflow.org/api_docs/python/tf/layers) or [TensorFlow Layers (contrib)](https://www.tensorflow.org/api_guides/python/contrib.layers) packages for this layer. For more of a challenge, only use other TensorFlow packages."
   ]
  },
  {
   "cell_type": "code",
   "execution_count": 25,
   "metadata": {
    "collapsed": false,
    "deletable": true,
    "editable": true
   },
   "outputs": [
    {
     "name": "stdout",
     "output_type": "stream",
     "text": [
      "Tests Passed\n"
     ]
    }
   ],
   "source": [
    "def fully_conn(x_tensor, num_outputs):\n",
    "    \"\"\"\n",
    "    Apply a fully connected layer to x_tensor using weight and bias\n",
    "    : x_tensor: A 2-D tensor where the first dimension is batch size.\n",
    "    : num_outputs: The number of output that the new tensor should be.\n",
    "    : return: A 2-D tensor where the second dimension is num_outputs.\n",
    "    \"\"\"\n",
    "    # TODO: Implement Function\n",
    "    shape_weight = (x_tensor.get_shape().as_list()[-1],num_outputs)\n",
    "    weight = tf.Variable(tf.truncated_normal(shape_weight,mean=0.0,stddev = 0.1))\n",
    "    bias = tf.Variable(tf.zeros(num_outputs))\n",
    "    linear = tf.add(tf.matmul(x_tensor,weight),bias)\n",
    "    res = tf.nn.relu(linear)\n",
    "    return res\n",
    "\n",
    "\n",
    "\"\"\"\n",
    "DON'T MODIFY ANYTHING IN THIS CELL THAT IS BELOW THIS LINE\n",
    "\"\"\"\n",
    "tests.test_fully_conn(fully_conn)"
   ]
  },
  {
   "cell_type": "markdown",
   "metadata": {
    "deletable": true,
    "editable": true
   },
   "source": [
    "### Output Layer\n",
    "Implement the `output` function to apply a fully connected layer to `x_tensor` with the shape (*Batch Size*, *num_outputs*). Shortcut option: you can use classes from the [TensorFlow Layers](https://www.tensorflow.org/api_docs/python/tf/layers) or [TensorFlow Layers (contrib)](https://www.tensorflow.org/api_guides/python/contrib.layers) packages for this layer. For more of a challenge, only use other TensorFlow packages.\n",
    "\n",
    "**Note:** Activation, softmax, or cross entropy should **not** be applied to this."
   ]
  },
  {
   "cell_type": "code",
   "execution_count": 6,
   "metadata": {
    "collapsed": false,
    "deletable": true,
    "editable": true
   },
   "outputs": [
    {
     "name": "stdout",
     "output_type": "stream",
     "text": [
      "Tests Passed\n"
     ]
    }
   ],
   "source": [
    "def output(x_tensor, num_outputs):\n",
    "    \"\"\"\n",
    "    Apply a output layer to x_tensor using weight and bias\n",
    "    : x_tensor: A 2-D tensor where the first dimension is batch size.\n",
    "    : num_outputs: The number of output that the new tensor should be.\n",
    "    : return: A 2-D tensor where the second dimension is num_outputs.\n",
    "    \"\"\"\n",
    "    # TODO: Implement Function\n",
    "    shape_weight = (x_tensor.get_shape().as_list()[-1],num_outputs)\n",
    "    weight = tf.Variable(tf.truncated_normal(shape_weight))\n",
    "    bias = tf.Variable(tf.zeros(num_outputs))\n",
    "    res = tf.add(tf.matmul(x_tensor,weight),bias)\n",
    "    return res\n",
    "\n",
    "\n",
    "\"\"\"\n",
    "DON'T MODIFY ANYTHING IN THIS CELL THAT IS BELOW THIS LINE\n",
    "\"\"\"\n",
    "tests.test_output(output)"
   ]
  },
  {
   "cell_type": "markdown",
   "metadata": {
    "deletable": true,
    "editable": true
   },
   "source": [
    "### Create Convolutional Model\n",
    "Implement the function `conv_net` to create a convolutional neural network model. The function takes in a batch of images, `x`, and outputs logits.  Use the layers you created above to create this model:\n",
    "\n",
    "* Apply 1, 2, or 3 Convolution and Max Pool layers\n",
    "* Apply a Flatten Layer\n",
    "* Apply 1, 2, or 3 Fully Connected Layers\n",
    "* Apply an Output Layer\n",
    "* Return the output\n",
    "* Apply [TensorFlow's Dropout](https://www.tensorflow.org/api_docs/python/tf/nn/dropout) to one or more layers in the model using `keep_prob`. "
   ]
  },
  {
   "cell_type": "code",
   "execution_count": 38,
   "metadata": {
    "collapsed": false,
    "deletable": true,
    "editable": true
   },
   "outputs": [
    {
     "name": "stdout",
     "output_type": "stream",
     "text": [
      "Neural Network Built!\n"
     ]
    }
   ],
   "source": [
    "def conv_net(x, keep_prob):\n",
    "    \"\"\"\n",
    "    Create a convolutional neural network model\n",
    "    : x: Placeholder tensor that holds image data.\n",
    "    : keep_prob: Placeholder tensor that hold dropout keep probability.\n",
    "    : return: Tensor that represents logits\n",
    "    \"\"\"\n",
    "    # TODO: Apply 1, 2, or 3 Convolution and Max Pool layers\n",
    "    #    Play around with different number of outputs, kernel size and stride\n",
    "    # Function Definition from Above:\n",
    "    #    conv2d_maxpool(x_tensor, conv_num_outputs, conv_ksize, conv_strides, pool_ksize, pool_strides)\n",
    "    \n",
    "    # input 32*32*3 --> 16*16*60, increase first\n",
    "    layer = conv2d_maxpool(x, 200,(6,6),(1,1),(2,2),(2,2))  \n",
    "    # input 16*16*60 --> 8*8*120, then decrease\n",
    "    layer = conv2d_maxpool(layer,400,(3,3),(1,1),(2,2),(2,2))\n",
    "    layer = tf.nn.dropout(layer, keep_prob)\n",
    "    \n",
    "    # input  8*8*120 --> 4*4*240, then decrease\n",
    "    layer = conv2d_maxpool(layer, 800,(2,2),(1,1),(2,2),(2,2))\n",
    "\n",
    "\n",
    "    # TODO: Apply a Flatten Layer\n",
    "    # Function Definition from Above:\n",
    "    #   flatten(x_tensor)\n",
    "    \n",
    "    layer = flatten(layer)\n",
    "    \n",
    "    \n",
    "\n",
    "    # TODO: Apply 1, 2, or 3 Fully Connected Layers\n",
    "    #    Play around with different number of outputs\n",
    "    # Function Definition from Above:\n",
    "    #   fully_conn(x_tensor, num_outputs)\n",
    "    \n",
    "    layer = fully_conn(layer, 1024)\n",
    "    layer = fully_conn(layer, 512)\n",
    "    \n",
    "    # add dropout\n",
    "    #layer = tf.nn.dropout(layer, keep_prob)\n",
    "    \n",
    "    \n",
    "    # TODO: Apply an Output Layer\n",
    "    #    Set this to the number of classes\n",
    "    # Function Definition from Above:\n",
    "    #   output(x_tensor, num_outputs)\n",
    "    layer = output(layer, 10)\n",
    "    \n",
    "    # TODO: return output\n",
    "    return layer\n",
    "\n",
    "\n",
    "\"\"\"\n",
    "DON'T MODIFY ANYTHING IN THIS CELL THAT IS BELOW THIS LINE\n",
    "\"\"\"\n",
    "\n",
    "##############################\n",
    "## Build the Neural Network ##\n",
    "##############################\n",
    "\n",
    "# Remove previous weights, bias, inputs, etc..\n",
    "tf.reset_default_graph()\n",
    "\n",
    "# Inputs\n",
    "x = neural_net_image_input((32, 32, 3))\n",
    "y = neural_net_label_input(10)\n",
    "keep_prob = neural_net_keep_prob_input()\n",
    "\n",
    "# Model\n",
    "logits = conv_net(x, keep_prob)\n",
    "\n",
    "# Name logits Tensor, so that is can be loaded from disk after training\n",
    "logits = tf.identity(logits, name='logits')\n",
    "\n",
    "# Loss and Optimizer\n",
    "cost = tf.reduce_mean(tf.nn.softmax_cross_entropy_with_logits(logits=logits, labels=y))\n",
    "optimizer = tf.train.AdamOptimizer().minimize(cost)\n",
    "\n",
    "# Accuracy\n",
    "correct_pred = tf.equal(tf.argmax(logits, 1), tf.argmax(y, 1))\n",
    "accuracy = tf.reduce_mean(tf.cast(correct_pred, tf.float32), name='accuracy')\n",
    "\n",
    "tests.test_conv_net(conv_net)"
   ]
  },
  {
   "cell_type": "markdown",
   "metadata": {
    "deletable": true,
    "editable": true
   },
   "source": [
    "## Train the Neural Network\n",
    "### Single Optimization\n",
    "Implement the function `train_neural_network` to do a single optimization.  The optimization should use `optimizer` to optimize in `session` with a `feed_dict` of the following:\n",
    "* `x` for image input\n",
    "* `y` for labels\n",
    "* `keep_prob` for keep probability for dropout\n",
    "\n",
    "This function will be called for each batch, so `tf.global_variables_initializer()` has already been called.\n",
    "\n",
    "Note: Nothing needs to be returned. This function is only optimizing the neural network."
   ]
  },
  {
   "cell_type": "code",
   "execution_count": 33,
   "metadata": {
    "collapsed": false,
    "deletable": true,
    "editable": true
   },
   "outputs": [
    {
     "name": "stdout",
     "output_type": "stream",
     "text": [
      "Tests Passed\n"
     ]
    }
   ],
   "source": [
    "def train_neural_network(session, optimizer, keep_probability, feature_batch, label_batch):\n",
    "    \"\"\"\n",
    "    Optimize the session on a batch of images and labels\n",
    "    : session: Current TensorFlow session\n",
    "    : optimizer: TensorFlow optimizer function\n",
    "    : keep_probability: keep probability\n",
    "    : feature_batch: Batch of Numpy image data\n",
    "    : label_batch: Batch of Numpy label data\n",
    "    \"\"\"\n",
    "    # TODO: Implement Function\n",
    "    session.run(optimizer, feed_dict={x:feature_batch, y:label_batch, keep_prob:keep_probability})\n",
    "    pass\n",
    "\n",
    "\n",
    "\"\"\"\n",
    "DON'T MODIFY ANYTHING IN THIS CELL THAT IS BELOW THIS LINE\n",
    "\"\"\"\n",
    "tests.test_train_nn(train_neural_network)"
   ]
  },
  {
   "cell_type": "markdown",
   "metadata": {
    "deletable": true,
    "editable": true
   },
   "source": [
    "### Show Stats\n",
    "Implement the function `print_stats` to print loss and validation accuracy.  Use the global variables `valid_features` and `valid_labels` to calculate validation accuracy.  Use a keep probability of `1.0` to calculate the loss and validation accuracy."
   ]
  },
  {
   "cell_type": "code",
   "execution_count": 17,
   "metadata": {
    "collapsed": false,
    "deletable": true,
    "editable": true
   },
   "outputs": [],
   "source": [
    "def print_stats(session, feature_batch, label_batch, cost, accuracy):\n",
    "    \"\"\"\n",
    "    Print information about loss and validation accuracy\n",
    "    : session: Current TensorFlow session\n",
    "    : feature_batch: Batch of Numpy image data\n",
    "    : label_batch: Batch of Numpy label data\n",
    "    : cost: TensorFlow cost function\n",
    "    : accuracy: TensorFlow accuracy function\n",
    "    \"\"\"\n",
    "    # TODO: Implement Function\n",
    "    #cost_num_train = session.run(cost, feed_dict={x:feature_batch, y:label_batch, keep_prob:1.0})\n",
    "    acc_num_train = session.run(accuracy, feed_dict={x:feature_batch, y:label_batch, keep_prob:1.0})\n",
    "    \n",
    "    #cost_num_valid = session.run(cost, feed_dict={x:valid_features, y:valid_labels, keep_prob:1.0})\n",
    "    acc_num_valid = session.run(accuracy, feed_dict={x:valid_features[:len(feature_batch)], y:valid_labels[:len(label_batch)], keep_prob:1.0})\n",
    "    \n",
    "    print(\"train acc:\",acc_num_train)\n",
    "    print(\"valid acc:\",acc_num_valid)\n",
    "    \n",
    "    pass"
   ]
  },
  {
   "cell_type": "markdown",
   "metadata": {
    "deletable": true,
    "editable": true
   },
   "source": [
    "### Hyperparameters\n",
    "Tune the following parameters:\n",
    "* Set `epochs` to the number of iterations until the network stops learning or start overfitting\n",
    "* Set `batch_size` to the highest number that your machine has memory for.  Most people set them to common sizes of memory:\n",
    " * 64\n",
    " * 128\n",
    " * 256\n",
    " * ...\n",
    "* Set `keep_probability` to the probability of keeping a node using dropout"
   ]
  },
  {
   "cell_type": "code",
   "execution_count": 40,
   "metadata": {
    "collapsed": true,
    "deletable": true,
    "editable": true
   },
   "outputs": [],
   "source": [
    "# TODO: Tune Parameters\n",
    "epochs = 50\n",
    "batch_size = 512\n",
    "keep_probability = 0.9"
   ]
  },
  {
   "cell_type": "markdown",
   "metadata": {
    "deletable": true,
    "editable": true
   },
   "source": [
    "### Train on a Single CIFAR-10 Batch\n",
    "Instead of training the neural network on all the CIFAR-10 batches of data, let's use a single batch. This should save time while you iterate on the model to get a better accuracy.  Once the final validation accuracy is 50% or greater, run the model on all the data in the next section."
   ]
  },
  {
   "cell_type": "code",
   "execution_count": 41,
   "metadata": {
    "collapsed": false,
    "deletable": true,
    "editable": true
   },
   "outputs": [
    {
     "name": "stdout",
     "output_type": "stream",
     "text": [
      "Checking the Training on a Single Batch...\n",
      "Epoch  1, CIFAR-10 Batch 1:  train acc: 0.108108\n",
      "valid acc: 0.10473\n",
      "Epoch  2, CIFAR-10 Batch 1:  train acc: 0.216216\n",
      "valid acc: 0.202703\n",
      "Epoch  3, CIFAR-10 Batch 1:  train acc: 0.25\n",
      "valid acc: 0.216216\n",
      "Epoch  4, CIFAR-10 Batch 1:  train acc: 0.273649\n",
      "valid acc: 0.273649\n",
      "Epoch  5, CIFAR-10 Batch 1:  train acc: 0.324324\n",
      "valid acc: 0.310811\n",
      "Epoch  6, CIFAR-10 Batch 1:  train acc: 0.402027\n",
      "valid acc: 0.310811\n",
      "Epoch  7, CIFAR-10 Batch 1:  train acc: 0.442568\n",
      "valid acc: 0.347973\n",
      "Epoch  8, CIFAR-10 Batch 1:  train acc: 0.486487\n",
      "valid acc: 0.334459\n",
      "Epoch  9, CIFAR-10 Batch 1:  train acc: 0.537162\n",
      "valid acc: 0.334459\n",
      "Epoch 10, CIFAR-10 Batch 1:  train acc: 0.513514\n",
      "valid acc: 0.388514\n",
      "Epoch 11, CIFAR-10 Batch 1:  train acc: 0.550676\n",
      "valid acc: 0.391892\n",
      "Epoch 12, CIFAR-10 Batch 1:  train acc: 0.60473\n",
      "valid acc: 0.388514\n",
      "Epoch 13, CIFAR-10 Batch 1:  train acc: 0.625\n",
      "valid acc: 0.418919\n",
      "Epoch 14, CIFAR-10 Batch 1:  train acc: 0.621622\n",
      "valid acc: 0.415541\n",
      "Epoch 15, CIFAR-10 Batch 1:  train acc: 0.685811\n",
      "valid acc: 0.418919\n",
      "Epoch 16, CIFAR-10 Batch 1:  train acc: 0.72973\n",
      "valid acc: 0.435811\n",
      "Epoch 17, CIFAR-10 Batch 1:  train acc: 0.743243\n",
      "valid acc: 0.469595\n",
      "Epoch 18, CIFAR-10 Batch 1:  train acc: 0.783784\n",
      "valid acc: 0.462838\n",
      "Epoch 19, CIFAR-10 Batch 1:  train acc: 0.804054\n",
      "valid acc: 0.449324\n",
      "Epoch 20, CIFAR-10 Batch 1:  train acc: 0.810811\n",
      "valid acc: 0.439189\n",
      "Epoch 21, CIFAR-10 Batch 1:  train acc: 0.834459\n",
      "valid acc: 0.459459\n",
      "Epoch 22, CIFAR-10 Batch 1:  train acc: 0.871622\n",
      "valid acc: 0.456081\n",
      "Epoch 23, CIFAR-10 Batch 1:  train acc: 0.881757\n",
      "valid acc: 0.445946\n",
      "Epoch 24, CIFAR-10 Batch 1:  train acc: 0.885135\n",
      "valid acc: 0.445946\n",
      "Epoch 25, CIFAR-10 Batch 1:  train acc: 0.902027\n",
      "valid acc: 0.435811\n",
      "Epoch 26, CIFAR-10 Batch 1:  train acc: 0.898649\n",
      "valid acc: 0.45946\n",
      "Epoch 27, CIFAR-10 Batch 1:  train acc: 0.898649\n",
      "valid acc: 0.429054\n",
      "Epoch 28, CIFAR-10 Batch 1:  train acc: 0.898649\n",
      "valid acc: 0.445946\n",
      "Epoch 29, CIFAR-10 Batch 1:  train acc: 0.875\n",
      "valid acc: 0.452703\n",
      "Epoch 30, CIFAR-10 Batch 1:  train acc: 0.881757\n",
      "valid acc: 0.432432\n",
      "Epoch 31, CIFAR-10 Batch 1:  train acc: 0.949324\n",
      "valid acc: 0.47973\n",
      "Epoch 32, CIFAR-10 Batch 1:  train acc: 0.956081\n",
      "valid acc: 0.462838\n",
      "Epoch 33, CIFAR-10 Batch 1:  train acc: 0.949324\n",
      "valid acc: 0.462838\n",
      "Epoch 34, CIFAR-10 Batch 1:  train acc: 0.945946\n",
      "valid acc: 0.449324\n",
      "Epoch 35, CIFAR-10 Batch 1:  train acc: 0.962838\n",
      "valid acc: 0.469595\n",
      "Epoch 36, CIFAR-10 Batch 1:  train acc: 0.966216\n",
      "valid acc: 0.462838\n",
      "Epoch 37, CIFAR-10 Batch 1:  train acc: 0.972973\n",
      "valid acc: 0.445946\n",
      "Epoch 38, CIFAR-10 Batch 1:  train acc: 0.969595\n",
      "valid acc: 0.472973\n",
      "Epoch 39, CIFAR-10 Batch 1:  train acc: 0.97973\n",
      "valid acc: 0.456081\n",
      "Epoch 40, CIFAR-10 Batch 1:  train acc: 0.972973\n",
      "valid acc: 0.456081\n",
      "Epoch 41, CIFAR-10 Batch 1:  train acc: 0.97973\n",
      "valid acc: 0.466216\n",
      "Epoch 42, CIFAR-10 Batch 1:  train acc: 0.962838\n",
      "valid acc: 0.472973\n",
      "Epoch 43, CIFAR-10 Batch 1:  train acc: 0.966216\n",
      "valid acc: 0.469595\n",
      "Epoch 44, CIFAR-10 Batch 1:  train acc: 0.993243\n",
      "valid acc: 0.476351\n",
      "Epoch 45, CIFAR-10 Batch 1:  train acc: 0.986486\n",
      "valid acc: 0.5\n",
      "Epoch 46, CIFAR-10 Batch 1:  train acc: 0.989865\n",
      "valid acc: 0.486486\n",
      "Epoch 47, CIFAR-10 Batch 1:  train acc: 0.989865\n",
      "valid acc: 0.486486\n",
      "Epoch 48, CIFAR-10 Batch 1:  train acc: 0.969595\n",
      "valid acc: 0.459459\n",
      "Epoch 49, CIFAR-10 Batch 1:  train acc: 0.983108\n",
      "valid acc: 0.462838\n",
      "Epoch 50, CIFAR-10 Batch 1:  train acc: 0.989865\n",
      "valid acc: 0.489865\n"
     ]
    }
   ],
   "source": [
    "\"\"\"\n",
    "DON'T MODIFY ANYTHING IN THIS CELL\n",
    "\"\"\"\n",
    "print('Checking the Training on a Single Batch...')\n",
    "with tf.Session() as sess:\n",
    "    # Initializing the variables\n",
    "    sess.run(tf.global_variables_initializer())\n",
    "    \n",
    "    # Training cycle\n",
    "    for epoch in range(epochs):\n",
    "        batch_i = 1\n",
    "        for batch_features, batch_labels in helper.load_preprocess_training_batch(batch_i, batch_size):\n",
    "            train_neural_network(sess, optimizer, keep_probability, batch_features, batch_labels)\n",
    "        print('Epoch {:>2}, CIFAR-10 Batch {}:  '.format(epoch + 1, batch_i), end='')\n",
    "        print_stats(sess, batch_features, batch_labels, cost, accuracy)"
   ]
  },
  {
   "cell_type": "markdown",
   "metadata": {
    "deletable": true,
    "editable": true
   },
   "source": [
    "### Fully Train the Model\n",
    "Now that you got a good accuracy with a single CIFAR-10 batch, try it with all five batches."
   ]
  },
  {
   "cell_type": "code",
   "execution_count": 42,
   "metadata": {
    "collapsed": false,
    "deletable": true,
    "editable": true
   },
   "outputs": [
    {
     "name": "stdout",
     "output_type": "stream",
     "text": [
      "Training...\n",
      "Epoch  1, CIFAR-10 Batch 1:  train acc: 0.111486\n",
      "valid acc: 0.118243\n",
      "Epoch  1, CIFAR-10 Batch 2:  train acc: 0.212838\n",
      "valid acc: 0.189189\n",
      "Epoch  1, CIFAR-10 Batch 3:  train acc: 0.280405\n",
      "valid acc: 0.236486\n",
      "Epoch  1, CIFAR-10 Batch 4:  train acc: 0.324324\n",
      "valid acc: 0.263514\n",
      "Epoch  1, CIFAR-10 Batch 5:  train acc: 0.317568\n",
      "valid acc: 0.280405\n",
      "Epoch  2, CIFAR-10 Batch 1:  train acc: 0.307432\n",
      "valid acc: 0.317568\n",
      "Epoch  2, CIFAR-10 Batch 2:  train acc: 0.310811\n",
      "valid acc: 0.334459\n",
      "Epoch  2, CIFAR-10 Batch 3:  train acc: 0.375\n",
      "valid acc: 0.327703\n",
      "Epoch  2, CIFAR-10 Batch 4:  train acc: 0.358108\n",
      "valid acc: 0.314189\n",
      "Epoch  2, CIFAR-10 Batch 5:  train acc: 0.368243\n",
      "valid acc: 0.317568\n",
      "Epoch  3, CIFAR-10 Batch 1:  train acc: 0.385135\n",
      "valid acc: 0.310811\n",
      "Epoch  3, CIFAR-10 Batch 2:  train acc: 0.402027\n",
      "valid acc: 0.327703\n",
      "Epoch  3, CIFAR-10 Batch 3:  train acc: 0.456081\n",
      "valid acc: 0.351351\n",
      "Epoch  3, CIFAR-10 Batch 4:  train acc: 0.456081\n",
      "valid acc: 0.35473\n",
      "Epoch  3, CIFAR-10 Batch 5:  train acc: 0.415541\n",
      "valid acc: 0.381757\n",
      "Epoch  4, CIFAR-10 Batch 1:  train acc: 0.429054\n",
      "valid acc: 0.378378\n",
      "Epoch  4, CIFAR-10 Batch 2:  train acc: 0.459459\n",
      "valid acc: 0.371622\n",
      "Epoch  4, CIFAR-10 Batch 3:  train acc: 0.537162\n",
      "valid acc: 0.402027\n",
      "Epoch  4, CIFAR-10 Batch 4:  train acc: 0.469595\n",
      "valid acc: 0.402027\n",
      "Epoch  4, CIFAR-10 Batch 5:  train acc: 0.496622\n",
      "valid acc: 0.402027\n",
      "Epoch  5, CIFAR-10 Batch 1:  train acc: 0.459459\n",
      "valid acc: 0.402027\n",
      "Epoch  5, CIFAR-10 Batch 2:  train acc: 0.47973\n",
      "valid acc: 0.415541\n",
      "Epoch  5, CIFAR-10 Batch 3:  train acc: 0.564189\n",
      "valid acc: 0.442568\n",
      "Epoch  5, CIFAR-10 Batch 4:  train acc: 0.540541\n",
      "valid acc: 0.442568\n",
      "Epoch  5, CIFAR-10 Batch 5:  train acc: 0.543919\n",
      "valid acc: 0.418919\n",
      "Epoch  6, CIFAR-10 Batch 1:  train acc: 0.47973\n",
      "valid acc: 0.449324\n",
      "Epoch  6, CIFAR-10 Batch 2:  train acc: 0.52027\n",
      "valid acc: 0.439189\n",
      "Epoch  6, CIFAR-10 Batch 3:  train acc: 0.60473\n",
      "valid acc: 0.452703\n",
      "Epoch  6, CIFAR-10 Batch 4:  train acc: 0.564189\n",
      "valid acc: 0.459459\n",
      "Epoch  6, CIFAR-10 Batch 5:  train acc: 0.577703\n",
      "valid acc: 0.472973\n",
      "Epoch  7, CIFAR-10 Batch 1:  train acc: 0.540541\n",
      "valid acc: 0.445946\n",
      "Epoch  7, CIFAR-10 Batch 2:  train acc: 0.574324\n",
      "valid acc: 0.439189\n",
      "Epoch  7, CIFAR-10 Batch 3:  train acc: 0.601351\n",
      "valid acc: 0.472973\n",
      "Epoch  7, CIFAR-10 Batch 4:  train acc: 0.618243\n",
      "valid acc: 0.486487\n",
      "Epoch  7, CIFAR-10 Batch 5:  train acc: 0.611487\n",
      "valid acc: 0.493243\n",
      "Epoch  8, CIFAR-10 Batch 1:  train acc: 0.570946\n",
      "valid acc: 0.510135\n",
      "Epoch  8, CIFAR-10 Batch 2:  train acc: 0.577703\n",
      "valid acc: 0.462838\n",
      "Epoch  8, CIFAR-10 Batch 3:  train acc: 0.641892\n",
      "valid acc: 0.456081\n",
      "Epoch  8, CIFAR-10 Batch 4:  train acc: 0.648649\n",
      "valid acc: 0.5\n",
      "Epoch  8, CIFAR-10 Batch 5:  train acc: 0.638514\n",
      "valid acc: 0.503378\n",
      "Epoch  9, CIFAR-10 Batch 1:  train acc: 0.594595\n",
      "valid acc: 0.503378\n",
      "Epoch  9, CIFAR-10 Batch 2:  train acc: 0.652027\n",
      "valid acc: 0.469595\n",
      "Epoch  9, CIFAR-10 Batch 3:  train acc: 0.662162\n",
      "valid acc: 0.469595\n",
      "Epoch  9, CIFAR-10 Batch 4:  train acc: 0.665541\n",
      "valid acc: 0.506757\n",
      "Epoch  9, CIFAR-10 Batch 5:  train acc: 0.662162\n",
      "valid acc: 0.486487\n",
      "Epoch 10, CIFAR-10 Batch 1:  train acc: 0.631757\n",
      "valid acc: 0.510135\n",
      "Epoch 10, CIFAR-10 Batch 2:  train acc: 0.648649\n",
      "valid acc: 0.493243\n",
      "Epoch 10, CIFAR-10 Batch 3:  train acc: 0.675676\n",
      "valid acc: 0.493243\n",
      "Epoch 10, CIFAR-10 Batch 4:  train acc: 0.712838\n",
      "valid acc: 0.510135\n",
      "Epoch 10, CIFAR-10 Batch 5:  train acc: 0.668919\n",
      "valid acc: 0.547297\n",
      "Epoch 11, CIFAR-10 Batch 1:  train acc: 0.638514\n",
      "valid acc: 0.543919\n",
      "Epoch 11, CIFAR-10 Batch 2:  train acc: 0.655405\n",
      "valid acc: 0.510135\n",
      "Epoch 11, CIFAR-10 Batch 3:  train acc: 0.702703\n",
      "valid acc: 0.527027\n",
      "Epoch 11, CIFAR-10 Batch 4:  train acc: 0.726351\n",
      "valid acc: 0.52027\n",
      "Epoch 11, CIFAR-10 Batch 5:  train acc: 0.712838\n",
      "valid acc: 0.557432\n",
      "Epoch 12, CIFAR-10 Batch 1:  train acc: 0.692568\n",
      "valid acc: 0.570946\n",
      "Epoch 12, CIFAR-10 Batch 2:  train acc: 0.726351\n",
      "valid acc: 0.503378\n",
      "Epoch 12, CIFAR-10 Batch 3:  train acc: 0.726351\n",
      "valid acc: 0.513514\n",
      "Epoch 12, CIFAR-10 Batch 4:  train acc: 0.743243\n",
      "valid acc: 0.530405\n",
      "Epoch 12, CIFAR-10 Batch 5:  train acc: 0.72973\n",
      "valid acc: 0.543919\n",
      "Epoch 13, CIFAR-10 Batch 1:  train acc: 0.695946\n",
      "valid acc: 0.567568\n",
      "Epoch 13, CIFAR-10 Batch 2:  train acc: 0.756757\n",
      "valid acc: 0.543919\n",
      "Epoch 13, CIFAR-10 Batch 3:  train acc: 0.743243\n",
      "valid acc: 0.533784\n",
      "Epoch 13, CIFAR-10 Batch 4:  train acc: 0.773649\n",
      "valid acc: 0.5\n",
      "Epoch 13, CIFAR-10 Batch 5:  train acc: 0.766892\n",
      "valid acc: 0.564189\n",
      "Epoch 14, CIFAR-10 Batch 1:  train acc: 0.72973\n",
      "valid acc: 0.567568\n",
      "Epoch 14, CIFAR-10 Batch 2:  train acc: 0.760135\n",
      "valid acc: 0.540541\n",
      "Epoch 14, CIFAR-10 Batch 3:  train acc: 0.790541\n",
      "valid acc: 0.516892\n",
      "Epoch 14, CIFAR-10 Batch 4:  train acc: 0.804054\n",
      "valid acc: 0.543919\n",
      "Epoch 14, CIFAR-10 Batch 5:  train acc: 0.760135\n",
      "valid acc: 0.550676\n",
      "Epoch 15, CIFAR-10 Batch 1:  train acc: 0.763514\n",
      "valid acc: 0.587838\n",
      "Epoch 15, CIFAR-10 Batch 2:  train acc: 0.777027\n",
      "valid acc: 0.554054\n",
      "Epoch 15, CIFAR-10 Batch 3:  train acc: 0.800676\n",
      "valid acc: 0.527027\n",
      "Epoch 15, CIFAR-10 Batch 4:  train acc: 0.820946\n",
      "valid acc: 0.527027\n",
      "Epoch 15, CIFAR-10 Batch 5:  train acc: 0.797297\n",
      "valid acc: 0.560811\n",
      "Epoch 16, CIFAR-10 Batch 1:  train acc: 0.756757\n",
      "valid acc: 0.570946\n",
      "Epoch 16, CIFAR-10 Batch 2:  train acc: 0.804054\n",
      "valid acc: 0.527027\n",
      "Epoch 16, CIFAR-10 Batch 3:  train acc: 0.820946\n",
      "valid acc: 0.567568\n",
      "Epoch 16, CIFAR-10 Batch 4:  train acc: 0.841216\n",
      "valid acc: 0.564189\n",
      "Epoch 16, CIFAR-10 Batch 5:  train acc: 0.780405\n",
      "valid acc: 0.564189\n",
      "Epoch 17, CIFAR-10 Batch 1:  train acc: 0.787162\n",
      "valid acc: 0.577703\n",
      "Epoch 17, CIFAR-10 Batch 2:  train acc: 0.793919\n",
      "valid acc: 0.540541\n",
      "Epoch 17, CIFAR-10 Batch 3:  train acc: 0.834459\n",
      "valid acc: 0.570946\n",
      "Epoch 17, CIFAR-10 Batch 4:  train acc: 0.831081\n",
      "valid acc: 0.540541\n",
      "Epoch 17, CIFAR-10 Batch 5:  train acc: 0.820946\n",
      "valid acc: 0.594595\n",
      "Epoch 18, CIFAR-10 Batch 1:  train acc: 0.810811\n",
      "valid acc: 0.574324\n",
      "Epoch 18, CIFAR-10 Batch 2:  train acc: 0.844595\n",
      "valid acc: 0.513514\n",
      "Epoch 18, CIFAR-10 Batch 3:  train acc: 0.847973\n",
      "valid acc: 0.557432\n",
      "Epoch 18, CIFAR-10 Batch 4:  train acc: 0.831081\n",
      "valid acc: 0.560811\n",
      "Epoch 18, CIFAR-10 Batch 5:  train acc: 0.824324\n",
      "valid acc: 0.574324\n",
      "Epoch 19, CIFAR-10 Batch 1:  train acc: 0.831081\n",
      "valid acc: 0.567568\n",
      "Epoch 19, CIFAR-10 Batch 2:  train acc: 0.861487\n",
      "valid acc: 0.550676\n",
      "Epoch 19, CIFAR-10 Batch 3:  train acc: 0.875\n",
      "valid acc: 0.611487\n",
      "Epoch 19, CIFAR-10 Batch 4:  train acc: 0.851351\n",
      "valid acc: 0.537162\n",
      "Epoch 19, CIFAR-10 Batch 5:  train acc: 0.844595\n",
      "valid acc: 0.577703\n",
      "Epoch 20, CIFAR-10 Batch 1:  train acc: 0.837838\n",
      "valid acc: 0.574324\n",
      "Epoch 20, CIFAR-10 Batch 2:  train acc: 0.864865\n",
      "valid acc: 0.527027\n",
      "Epoch 20, CIFAR-10 Batch 3:  train acc: 0.885135\n",
      "valid acc: 0.564189\n",
      "Epoch 20, CIFAR-10 Batch 4:  train acc: 0.841216\n",
      "valid acc: 0.570946\n",
      "Epoch 20, CIFAR-10 Batch 5:  train acc: 0.847973\n",
      "valid acc: 0.547297\n",
      "Epoch 21, CIFAR-10 Batch 1:  train acc: 0.793919\n",
      "valid acc: 0.58446\n",
      "Epoch 21, CIFAR-10 Batch 2:  train acc: 0.827703\n",
      "valid acc: 0.557432\n",
      "Epoch 21, CIFAR-10 Batch 3:  train acc: 0.881757\n",
      "valid acc: 0.537162\n",
      "Epoch 21, CIFAR-10 Batch 4:  train acc: 0.875\n",
      "valid acc: 0.530405\n",
      "Epoch 21, CIFAR-10 Batch 5:  train acc: 0.861487\n",
      "valid acc: 0.584459\n",
      "Epoch 22, CIFAR-10 Batch 1:  train acc: 0.864865\n",
      "valid acc: 0.581081\n",
      "Epoch 22, CIFAR-10 Batch 2:  train acc: 0.878378\n",
      "valid acc: 0.574324\n",
      "Epoch 22, CIFAR-10 Batch 3:  train acc: 0.902027\n",
      "valid acc: 0.530405\n",
      "Epoch 22, CIFAR-10 Batch 4:  train acc: 0.89527\n",
      "valid acc: 0.577703\n",
      "Epoch 22, CIFAR-10 Batch 5:  train acc: 0.831081\n",
      "valid acc: 0.554054\n",
      "Epoch 23, CIFAR-10 Batch 1:  train acc: 0.861486\n",
      "valid acc: 0.570946\n",
      "Epoch 23, CIFAR-10 Batch 2:  train acc: 0.878378\n",
      "valid acc: 0.554054\n",
      "Epoch 23, CIFAR-10 Batch 3:  train acc: 0.929054\n",
      "valid acc: 0.581081\n",
      "Epoch 23, CIFAR-10 Batch 4:  train acc: 0.89527\n",
      "valid acc: 0.60473\n",
      "Epoch 23, CIFAR-10 Batch 5:  train acc: 0.878378\n",
      "valid acc: 0.564189\n",
      "Epoch 24, CIFAR-10 Batch 1:  train acc: 0.875\n",
      "valid acc: 0.554054\n",
      "Epoch 24, CIFAR-10 Batch 2:  train acc: 0.891892\n",
      "valid acc: 0.564189\n",
      "Epoch 24, CIFAR-10 Batch 3:  train acc: 0.925676\n",
      "valid acc: 0.52027\n",
      "Epoch 24, CIFAR-10 Batch 4:  train acc: 0.89527\n",
      "valid acc: 0.594595\n",
      "Epoch 24, CIFAR-10 Batch 5:  train acc: 0.902027\n",
      "valid acc: 0.574324\n",
      "Epoch 25, CIFAR-10 Batch 1:  train acc: 0.881757\n",
      "valid acc: 0.560811\n",
      "Epoch 25, CIFAR-10 Batch 2:  train acc: 0.888514\n",
      "valid acc: 0.510135\n",
      "Epoch 25, CIFAR-10 Batch 3:  train acc: 0.905405\n",
      "valid acc: 0.591216\n",
      "Epoch 25, CIFAR-10 Batch 4:  train acc: 0.881757\n",
      "valid acc: 0.577703\n",
      "Epoch 25, CIFAR-10 Batch 5:  train acc: 0.878378\n",
      "valid acc: 0.584459\n",
      "Epoch 26, CIFAR-10 Batch 1:  train acc: 0.885135\n",
      "valid acc: 0.537162\n",
      "Epoch 26, CIFAR-10 Batch 2:  train acc: 0.885135\n",
      "valid acc: 0.503378\n",
      "Epoch 26, CIFAR-10 Batch 3:  train acc: 0.915541\n",
      "valid acc: 0.581081\n",
      "Epoch 26, CIFAR-10 Batch 4:  train acc: 0.922297\n",
      "valid acc: 0.570946\n",
      "Epoch 26, CIFAR-10 Batch 5:  train acc: 0.898649\n",
      "valid acc: 0.554054\n",
      "Epoch 27, CIFAR-10 Batch 1:  train acc: 0.898649\n",
      "valid acc: 0.537162\n",
      "Epoch 27, CIFAR-10 Batch 2:  train acc: 0.908784\n",
      "valid acc: 0.557432\n",
      "Epoch 27, CIFAR-10 Batch 3:  train acc: 0.902027\n",
      "valid acc: 0.608108\n",
      "Epoch 27, CIFAR-10 Batch 4:  train acc: 0.905405\n",
      "valid acc: 0.560811\n",
      "Epoch 27, CIFAR-10 Batch 5:  train acc: 0.945946\n",
      "valid acc: 0.594595\n",
      "Epoch 28, CIFAR-10 Batch 1:  train acc: 0.935811\n",
      "valid acc: 0.530405\n",
      "Epoch 28, CIFAR-10 Batch 2:  train acc: 0.875\n",
      "valid acc: 0.52027\n",
      "Epoch 28, CIFAR-10 Batch 3:  train acc: 0.915541\n",
      "valid acc: 0.584459\n",
      "Epoch 28, CIFAR-10 Batch 4:  train acc: 0.942568\n",
      "valid acc: 0.543919\n",
      "Epoch 28, CIFAR-10 Batch 5:  train acc: 0.922297\n",
      "valid acc: 0.550676\n",
      "Epoch 29, CIFAR-10 Batch 1:  train acc: 0.929054\n",
      "valid acc: 0.560811\n",
      "Epoch 29, CIFAR-10 Batch 2:  train acc: 0.905405\n",
      "valid acc: 0.47973\n",
      "Epoch 29, CIFAR-10 Batch 3:  train acc: 0.942568\n",
      "valid acc: 0.594595\n",
      "Epoch 29, CIFAR-10 Batch 4:  train acc: 0.918919\n",
      "valid acc: 0.587838\n",
      "Epoch 29, CIFAR-10 Batch 5:  train acc: 0.918919\n",
      "valid acc: 0.570946\n",
      "Epoch 30, CIFAR-10 Batch 1:  train acc: 0.942568\n",
      "valid acc: 0.540541\n",
      "Epoch 30, CIFAR-10 Batch 2:  train acc: 0.908784\n",
      "valid acc: 0.581081\n",
      "Epoch 30, CIFAR-10 Batch 3:  train acc: 0.942567\n",
      "valid acc: 0.60473\n",
      "Epoch 30, CIFAR-10 Batch 4:  train acc: 0.918919\n",
      "valid acc: 0.621622\n",
      "Epoch 30, CIFAR-10 Batch 5:  train acc: 0.918919\n",
      "valid acc: 0.577703\n",
      "Epoch 31, CIFAR-10 Batch 1:  train acc: 0.912162\n",
      "valid acc: 0.570946\n",
      "Epoch 31, CIFAR-10 Batch 2:  train acc: 0.952703\n",
      "valid acc: 0.574324\n",
      "Epoch 31, CIFAR-10 Batch 3:  train acc: 0.949324\n",
      "valid acc: 0.597973\n",
      "Epoch 31, CIFAR-10 Batch 4:  train acc: 0.929054\n",
      "valid acc: 0.597973\n",
      "Epoch 31, CIFAR-10 Batch 5:  train acc: 0.935811\n",
      "valid acc: 0.581081\n",
      "Epoch 32, CIFAR-10 Batch 1:  train acc: 0.942568\n",
      "valid acc: 0.540541\n",
      "Epoch 32, CIFAR-10 Batch 2:  train acc: 0.966216\n",
      "valid acc: 0.594595\n",
      "Epoch 32, CIFAR-10 Batch 3:  train acc: 0.949324\n",
      "valid acc: 0.577703\n",
      "Epoch 32, CIFAR-10 Batch 4:  train acc: 0.956081\n",
      "valid acc: 0.601351\n",
      "Epoch 32, CIFAR-10 Batch 5:  train acc: 0.922297\n",
      "valid acc: 0.547297\n",
      "Epoch 33, CIFAR-10 Batch 1:  train acc: 0.952703\n",
      "valid acc: 0.584459\n",
      "Epoch 33, CIFAR-10 Batch 2:  train acc: 0.962838\n",
      "valid acc: 0.577703\n",
      "Epoch 33, CIFAR-10 Batch 3:  train acc: 0.925676\n",
      "valid acc: 0.60473\n",
      "Epoch 33, CIFAR-10 Batch 4:  train acc: 0.956081\n",
      "valid acc: 0.557432\n",
      "Epoch 33, CIFAR-10 Batch 5:  train acc: 0.959459\n",
      "valid acc: 0.560811\n",
      "Epoch 34, CIFAR-10 Batch 1:  train acc: 0.956081\n",
      "valid acc: 0.567568\n",
      "Epoch 34, CIFAR-10 Batch 2:  train acc: 0.959459\n",
      "valid acc: 0.574324\n",
      "Epoch 34, CIFAR-10 Batch 3:  train acc: 0.915541\n",
      "valid acc: 0.597973\n",
      "Epoch 34, CIFAR-10 Batch 4:  train acc: 0.959459\n",
      "valid acc: 0.574324\n",
      "Epoch 34, CIFAR-10 Batch 5:  train acc: 0.932432\n",
      "valid acc: 0.591216\n",
      "Epoch 35, CIFAR-10 Batch 1:  train acc: 0.956081\n",
      "valid acc: 0.60473\n",
      "Epoch 35, CIFAR-10 Batch 2:  train acc: 0.956081\n",
      "valid acc: 0.60473\n",
      "Epoch 35, CIFAR-10 Batch 3:  train acc: 0.929054\n",
      "valid acc: 0.594595\n",
      "Epoch 35, CIFAR-10 Batch 4:  train acc: 0.952703\n",
      "valid acc: 0.601351\n",
      "Epoch 35, CIFAR-10 Batch 5:  train acc: 0.949324\n",
      "valid acc: 0.554054\n",
      "Epoch 36, CIFAR-10 Batch 1:  train acc: 0.942568\n",
      "valid acc: 0.614865\n",
      "Epoch 36, CIFAR-10 Batch 2:  train acc: 0.962838\n",
      "valid acc: 0.581081\n",
      "Epoch 36, CIFAR-10 Batch 3:  train acc: 0.972973\n",
      "valid acc: 0.567568\n",
      "Epoch 36, CIFAR-10 Batch 4:  train acc: 0.962838\n",
      "valid acc: 0.597973\n",
      "Epoch 36, CIFAR-10 Batch 5:  train acc: 0.959459\n",
      "valid acc: 0.540541\n",
      "Epoch 37, CIFAR-10 Batch 1:  train acc: 0.962838\n",
      "valid acc: 0.560811\n",
      "Epoch 37, CIFAR-10 Batch 2:  train acc: 0.986486\n",
      "valid acc: 0.608108\n",
      "Epoch 37, CIFAR-10 Batch 3:  train acc: 0.969595\n",
      "valid acc: 0.591216\n",
      "Epoch 37, CIFAR-10 Batch 4:  train acc: 0.966216\n",
      "valid acc: 0.591216\n",
      "Epoch 37, CIFAR-10 Batch 5:  train acc: 0.952703\n",
      "valid acc: 0.574324\n",
      "Epoch 38, CIFAR-10 Batch 1:  train acc: 0.966216\n",
      "valid acc: 0.594595\n",
      "Epoch 38, CIFAR-10 Batch 2:  train acc: 0.949324\n",
      "valid acc: 0.516892\n",
      "Epoch 38, CIFAR-10 Batch 3:  train acc: 0.959459\n",
      "valid acc: 0.60473\n",
      "Epoch 38, CIFAR-10 Batch 4:  train acc: 0.962838\n",
      "valid acc: 0.608108\n",
      "Epoch 38, CIFAR-10 Batch 5:  train acc: 0.939189\n",
      "valid acc: 0.581081\n",
      "Epoch 39, CIFAR-10 Batch 1:  train acc: 0.976351\n",
      "valid acc: 0.597973\n",
      "Epoch 39, CIFAR-10 Batch 2:  train acc: 0.986487\n",
      "valid acc: 0.577703\n",
      "Epoch 39, CIFAR-10 Batch 3:  train acc: 0.959459\n",
      "valid acc: 0.581081\n",
      "Epoch 39, CIFAR-10 Batch 4:  train acc: 0.983108\n",
      "valid acc: 0.574324\n",
      "Epoch 39, CIFAR-10 Batch 5:  train acc: 0.972973\n",
      "valid acc: 0.594595\n",
      "Epoch 40, CIFAR-10 Batch 1:  train acc: 0.976351\n",
      "valid acc: 0.625\n",
      "Epoch 40, CIFAR-10 Batch 2:  train acc: 0.983108\n",
      "valid acc: 0.564189\n",
      "Epoch 40, CIFAR-10 Batch 3:  train acc: 0.986487\n",
      "valid acc: 0.570946\n",
      "Epoch 40, CIFAR-10 Batch 4:  train acc: 0.97973\n",
      "valid acc: 0.638514\n",
      "Epoch 40, CIFAR-10 Batch 5:  train acc: 0.989865\n",
      "valid acc: 0.628378\n",
      "Epoch 41, CIFAR-10 Batch 1:  train acc: 0.989865\n",
      "valid acc: 0.581081\n",
      "Epoch 41, CIFAR-10 Batch 2:  train acc: 0.986486\n",
      "valid acc: 0.597973\n",
      "Epoch 41, CIFAR-10 Batch 3:  train acc: 0.986487\n",
      "valid acc: 0.581081\n",
      "Epoch 41, CIFAR-10 Batch 4:  train acc: 0.993243\n",
      "valid acc: 0.621622\n",
      "Epoch 41, CIFAR-10 Batch 5:  train acc: 0.972973\n",
      "valid acc: 0.614865\n",
      "Epoch 42, CIFAR-10 Batch 1:  train acc: 0.983108\n",
      "valid acc: 0.554054\n",
      "Epoch 42, CIFAR-10 Batch 2:  train acc: 0.993243\n",
      "valid acc: 0.60473\n",
      "Epoch 42, CIFAR-10 Batch 3:  train acc: 0.989865\n",
      "valid acc: 0.577703\n",
      "Epoch 42, CIFAR-10 Batch 4:  train acc: 0.983108\n",
      "valid acc: 0.574324\n",
      "Epoch 42, CIFAR-10 Batch 5:  train acc: 0.97973\n",
      "valid acc: 0.625\n",
      "Epoch 43, CIFAR-10 Batch 1:  train acc: 0.986486\n",
      "valid acc: 0.594595\n",
      "Epoch 43, CIFAR-10 Batch 2:  train acc: 0.993243\n",
      "valid acc: 0.611486\n",
      "Epoch 43, CIFAR-10 Batch 3:  train acc: 0.983108\n",
      "valid acc: 0.581081\n",
      "Epoch 43, CIFAR-10 Batch 4:  train acc: 0.986486\n",
      "valid acc: 0.570946\n",
      "Epoch 43, CIFAR-10 Batch 5:  train acc: 0.996622\n",
      "valid acc: 0.601351\n",
      "Epoch 44, CIFAR-10 Batch 1:  train acc: 0.993243\n",
      "valid acc: 0.587838\n",
      "Epoch 44, CIFAR-10 Batch 2:  train acc: 0.989865\n",
      "valid acc: 0.611487\n",
      "Epoch 44, CIFAR-10 Batch 3:  train acc: 0.996622\n",
      "valid acc: 0.587838\n",
      "Epoch 44, CIFAR-10 Batch 4:  train acc: 0.983108\n",
      "valid acc: 0.58446\n",
      "Epoch 44, CIFAR-10 Batch 5:  train acc: 0.983108\n",
      "valid acc: 0.611486\n",
      "Epoch 45, CIFAR-10 Batch 1:  train acc: 0.993243\n",
      "valid acc: 0.550676\n",
      "Epoch 45, CIFAR-10 Batch 2:  train acc: 0.993243\n",
      "valid acc: 0.587838\n",
      "Epoch 45, CIFAR-10 Batch 3:  train acc: 0.983108\n",
      "valid acc: 0.570946\n",
      "Epoch 45, CIFAR-10 Batch 4:  train acc: 0.976351\n",
      "valid acc: 0.570946\n",
      "Epoch 45, CIFAR-10 Batch 5:  train acc: 0.97973\n",
      "valid acc: 0.581081\n",
      "Epoch 46, CIFAR-10 Batch 1:  train acc: 0.969595\n",
      "valid acc: 0.564189\n",
      "Epoch 46, CIFAR-10 Batch 2:  train acc: 0.993243\n",
      "valid acc: 0.547297\n",
      "Epoch 46, CIFAR-10 Batch 3:  train acc: 0.993243\n",
      "valid acc: 0.597973\n",
      "Epoch 46, CIFAR-10 Batch 4:  train acc: 0.966216\n",
      "valid acc: 0.608108\n",
      "Epoch 46, CIFAR-10 Batch 5:  train acc: 0.962838\n",
      "valid acc: 0.570946\n",
      "Epoch 47, CIFAR-10 Batch 1:  train acc: 0.996622\n",
      "valid acc: 0.574324\n",
      "Epoch 47, CIFAR-10 Batch 2:  train acc: 0.989865\n",
      "valid acc: 0.543919\n",
      "Epoch 47, CIFAR-10 Batch 3:  train acc: 0.996622\n",
      "valid acc: 0.570946\n",
      "Epoch 47, CIFAR-10 Batch 4:  train acc: 0.989865\n",
      "valid acc: 0.58446\n",
      "Epoch 47, CIFAR-10 Batch 5:  train acc: 0.97973\n",
      "valid acc: 0.584459\n",
      "Epoch 48, CIFAR-10 Batch 1:  train acc: 0.989865\n",
      "valid acc: 0.597973\n",
      "Epoch 48, CIFAR-10 Batch 2:  train acc: 0.983108\n",
      "valid acc: 0.584459\n",
      "Epoch 48, CIFAR-10 Batch 3:  train acc: 0.989865\n",
      "valid acc: 0.594595\n",
      "Epoch 48, CIFAR-10 Batch 4:  train acc: 0.993243\n",
      "valid acc: 0.574324\n",
      "Epoch 48, CIFAR-10 Batch 5:  train acc: 0.976351\n",
      "valid acc: 0.554054\n",
      "Epoch 49, CIFAR-10 Batch 1:  train acc: 1.0\n",
      "valid acc: 0.60473\n",
      "Epoch 49, CIFAR-10 Batch 2:  train acc: 0.993243\n",
      "valid acc: 0.584459\n",
      "Epoch 49, CIFAR-10 Batch 3:  train acc: 0.986487\n",
      "valid acc: 0.597973\n",
      "Epoch 49, CIFAR-10 Batch 4:  train acc: 0.989865\n",
      "valid acc: 0.608108\n",
      "Epoch 49, CIFAR-10 Batch 5:  train acc: 0.986486\n",
      "valid acc: 0.557432\n",
      "Epoch 50, CIFAR-10 Batch 1:  train acc: 1.0\n",
      "valid acc: 0.611486\n",
      "Epoch 50, CIFAR-10 Batch 2:  train acc: 0.993243\n",
      "valid acc: 0.587838\n",
      "Epoch 50, CIFAR-10 Batch 3:  train acc: 0.993243\n",
      "valid acc: 0.641892\n",
      "Epoch 50, CIFAR-10 Batch 4:  train acc: 0.989865\n",
      "valid acc: 0.587838\n",
      "Epoch 50, CIFAR-10 Batch 5:  train acc: 0.97973\n",
      "valid acc: 0.560811\n"
     ]
    }
   ],
   "source": [
    "\"\"\"\n",
    "DON'T MODIFY ANYTHING IN THIS CELL\n",
    "\"\"\"\n",
    "save_model_path = './image_classification'\n",
    "\n",
    "print('Training...')\n",
    "with tf.Session() as sess:\n",
    "    # Initializing the variables\n",
    "    sess.run(tf.global_variables_initializer())\n",
    "    \n",
    "    # Training cycle\n",
    "    for epoch in range(epochs):\n",
    "        # Loop over all batches\n",
    "        n_batches = 5\n",
    "        for batch_i in range(1, n_batches + 1):\n",
    "            for batch_features, batch_labels in helper.load_preprocess_training_batch(batch_i, batch_size):\n",
    "                train_neural_network(sess, optimizer, keep_probability, batch_features, batch_labels)\n",
    "            print('Epoch {:>2}, CIFAR-10 Batch {}:  '.format(epoch + 1, batch_i), end='')\n",
    "            print_stats(sess, batch_features, batch_labels, cost, accuracy)\n",
    "            \n",
    "    # Save Model\n",
    "    saver = tf.train.Saver()\n",
    "    save_path = saver.save(sess, save_model_path)"
   ]
  },
  {
   "cell_type": "markdown",
   "metadata": {
    "deletable": true,
    "editable": true
   },
   "source": [
    "# Checkpoint\n",
    "The model has been saved to disk.\n",
    "## Test Model\n",
    "Test your model against the test dataset.  This will be your final accuracy. You should have an accuracy greater than 50%. If you don't, keep tweaking the model architecture and parameters."
   ]
  },
  {
   "cell_type": "code",
   "execution_count": 43,
   "metadata": {
    "collapsed": false,
    "deletable": true,
    "editable": true
   },
   "outputs": [
    {
     "name": "stdout",
     "output_type": "stream",
     "text": [
      "Testing Accuracy: 0.5432100191712379\n",
      "\n"
     ]
    },
    {
     "data": {
      "image/png": "[encoded data removed]",
      "text/plain": [
       "<matplotlib.figure.Figure at 0x7fd1a46aacc0>"
      ]
     },
     "metadata": {
      "image/png": {
       "height": 319,
       "width": 355
      }
     },
     "output_type": "display_data"
    }
   ],
   "source": [
    "\"\"\"\n",
    "DON'T MODIFY ANYTHING IN THIS CELL\n",
    "\"\"\"\n",
    "%matplotlib inline\n",
    "%config InlineBackend.figure_format = 'retina'\n",
    "\n",
    "import tensorflow as tf\n",
    "import pickle\n",
    "import helper\n",
    "import random\n",
    "\n",
    "# Set batch size if not already set\n",
    "try:\n",
    "    if batch_size:\n",
    "        pass\n",
    "except NameError:\n",
    "    batch_size = 64\n",
    "\n",
    "save_model_path = './image_classification'\n",
    "n_samples = 4\n",
    "top_n_predictions = 3\n",
    "\n",
    "def test_model():\n",
    "    \"\"\"\n",
    "    Test the saved model against the test dataset\n",
    "    \"\"\"\n",
    "\n",
    "    test_features, test_labels = pickle.load(open('preprocess_training.p', mode='rb'))\n",
    "    loaded_graph = tf.Graph()\n",
    "\n",
    "    with tf.Session(graph=loaded_graph) as sess:\n",
    "        # Load model\n",
    "        loader = tf.train.import_meta_graph(save_model_path + '.meta')\n",
    "        loader.restore(sess, save_model_path)\n",
    "\n",
    "        # Get Tensors from loaded model\n",
    "        loaded_x = loaded_graph.get_tensor_by_name('x:0')\n",
    "        loaded_y = loaded_graph.get_tensor_by_name('y:0')\n",
    "        loaded_keep_prob = loaded_graph.get_tensor_by_name('keep_prob:0')\n",
    "        loaded_logits = loaded_graph.get_tensor_by_name('logits:0')\n",
    "        loaded_acc = loaded_graph.get_tensor_by_name('accuracy:0')\n",
    "        \n",
    "        # Get accuracy in batches for memory limitations\n",
    "        test_batch_acc_total = 0\n",
    "        test_batch_count = 0\n",
    "        \n",
    "        for train_feature_batch, train_label_batch in helper.batch_features_labels(test_features, test_labels, batch_size):\n",
    "            test_batch_acc_total += sess.run(\n",
    "                loaded_acc,\n",
    "                feed_dict={loaded_x: train_feature_batch, loaded_y: train_label_batch, loaded_keep_prob: 1.0})\n",
    "            test_batch_count += 1\n",
    "\n",
    "        print('Testing Accuracy: {}\\n'.format(test_batch_acc_total/test_batch_count))\n",
    "\n",
    "        # Print Random Samples\n",
    "        random_test_features, random_test_labels = tuple(zip(*random.sample(list(zip(test_features, test_labels)), n_samples)))\n",
    "        random_test_predictions = sess.run(\n",
    "            tf.nn.top_k(tf.nn.softmax(loaded_logits), top_n_predictions),\n",
    "            feed_dict={loaded_x: random_test_features, loaded_y: random_test_labels, loaded_keep_prob: 1.0})\n",
    "        helper.display_image_predictions(random_test_features, random_test_labels, random_test_predictions)\n",
    "\n",
    "\n",
    "test_model()"
   ]
  },
  {
   "cell_type": "markdown",
   "metadata": {
    "deletable": true,
    "editable": true
   },
   "source": [
    "## Why 50-70% Accuracy?\n",
    "You might be wondering why you can't get an accuracy any higher. First things first, 50% isn't bad for a simple CNN.  Pure guessing would get you 10% accuracy. However, you might notice people are getting scores [well above 70%](http://rodrigob.github.io/are_we_there_yet/build/classification_datasets_results.html#43494641522d3130).  That's because we haven't taught you all there is to know about neural networks. We still need to cover a few more techniques.\n",
    "## Submitting This Project\n",
    "When submitting this project, make sure to run all the cells before saving the notebook.  Save the notebook file as \"dlnd_image_classification.ipynb\" and save it as a HTML file under \"File\" -> \"Download as\".  Include the \"helper.py\" and \"problem_unittests.py\" files in your submission."
   ]
  }
 ],
 "metadata": {
  "anaconda-cloud": {},
  "kernelspec": {
   "display_name": "Python 3",
   "language": "python",
   "name": "python3"
  },
  "language_info": {
   "codemirror_mode": {
    "name": "ipython",
    "version": 3
   },
   "file_extension": ".py",
   "mimetype": "text/x-python",
   "name": "python",
   "nbconvert_exporter": "python",
   "pygments_lexer": "ipython3",
   "version": "3.5.2"
  },
  "widgets": {
   "state": {},
   "version": "1.1.2"
  }
 },
 "nbformat": 4,
 "nbformat_minor": 0
}
